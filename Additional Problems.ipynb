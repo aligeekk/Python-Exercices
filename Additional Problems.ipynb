{
 "cells": [
  {
   "cell_type": "code",
   "execution_count": 34,
   "metadata": {},
   "outputs": [],
   "source": [
    "#Using map and lambdas\n",
    "#Add the correponding items of two lists\n",
    "num1 = [4, 5, 6]\n",
    "num2 = [5, 6, 7]\n",
    "#should return\n",
    "answer = [9,11,13]"
   ]
  },
  {
   "cell_type": "code",
   "execution_count": null,
   "metadata": {},
   "outputs": [],
   "source": [
    "#Solution\n",
    "list(map(lambda n1, n2: n1+n2, num1, num2))"
   ]
  },
  {
   "cell_type": "code",
   "execution_count": 41,
   "metadata": {},
   "outputs": [],
   "source": [
    "#Map/Filter/Reduce Questions\n",
    "#Re-write the following function with lambda/map/filter/reduce in one\n",
    "#line of code\n",
    "from functools import reduce #reduce is in functools\n",
    "L = [1,2,3,4,5,6,7,8,9,10]\n",
    "\n",
    "def productOfOdds(list):\n",
    "    result = 1\n",
    "    for i in list:\n",
    "        if i % 2 == 1:\n",
    "            result *= i\n",
    "    return result"
   ]
  },
  {
   "cell_type": "code",
   "execution_count": 47,
   "metadata": {},
   "outputs": [
    {
     "data": {
      "text/plain": [
       "945"
      ]
     },
     "execution_count": 47,
     "metadata": {},
     "output_type": "execute_result"
    }
   ],
   "source": [
    "#Solution\n",
    "reduce(lambda x,y: x * y, filter(lambda x: x % 2 == 1, map(lambda x: x, L)))"
   ]
  },
  {
   "cell_type": "code",
   "execution_count": 44,
   "metadata": {},
   "outputs": [],
   "source": [
    "#Using nested map/lambdas\n",
    "#Convert the list into one list in one line of code: (notice the spaces)\n",
    "list1 = [\" a , 1 \", \" b , 2 \"]\n",
    "answer = [[\"a\",\"1\"],[\"b\",\"2\"]]"
   ]
  },
  {
   "cell_type": "code",
   "execution_count": 45,
   "metadata": {},
   "outputs": [
    {
     "data": {
      "text/plain": [
       "[['a', '1'], ['b', '2']]"
      ]
     },
     "execution_count": 45,
     "metadata": {},
     "output_type": "execute_result"
    }
   ],
   "source": [
    "#Solution\n",
    "list(map(lambda x: list(map(lambda t: t.strip(), x.split(',', 1))), list1))"
   ]
  },
  {
   "cell_type": "code",
   "execution_count": 50,
   "metadata": {},
   "outputs": [],
   "source": [
    "#If else in list comprehension\n",
    "#Using a list comprehension in one line of code, output a list indicating if the \n",
    "L = [1,2,3,4,5,6,7]\n",
    "M = [4,13,76,23,80]\n",
    "answer_L = ['Odd', 'Even', 'Odd', 'Even', 'Odd', 'Even', 'Odd']\n",
    "answer_M = ['Even', 'Odd', 'Even', 'Odd', 'Even']"
   ]
  },
  {
   "cell_type": "code",
   "execution_count": 55,
   "metadata": {},
   "outputs": [
    {
     "data": {
      "text/plain": [
       "['Odd', 'Even', 'Odd', 'Even', 'Odd', 'Even', 'Odd']"
      ]
     },
     "execution_count": 55,
     "metadata": {},
     "output_type": "execute_result"
    }
   ],
   "source": [
    "#Solution\n",
    "[\"Even\" if i%2==0 else \"Odd\" for i in L]"
   ]
  },
  {
   "cell_type": "code",
   "execution_count": null,
   "metadata": {},
   "outputs": [],
   "source": [
    "#List comprehension ifs\n",
    "#Using list comprehension, find all numbers that are divisible by 2 and 6 in one line of code from [0:100]\n",
    "answer = [0, 6, 12, 18, 24, 30, 36, 42, 48, 54, 60, 66, 72, 78, 84, 90, 96]"
   ]
  },
  {
   "cell_type": "code",
   "execution_count": 3,
   "metadata": {},
   "outputs": [
    {
     "data": {
      "text/plain": [
       "[0, 6, 12, 18, 24, 30, 36, 42, 48, 54, 60, 66, 72, 78, 84, 90, 96]"
      ]
     },
     "execution_count": 3,
     "metadata": {},
     "output_type": "execute_result"
    }
   ],
   "source": [
    "#Solution\n",
    "[x for x in range(100) if x % 6 == 0]"
   ]
  },
  {
   "cell_type": "code",
   "execution_count": 12,
   "metadata": {},
   "outputs": [],
   "source": [
    "#Nested loops\n",
    "#Using nested loops, create a function which outputs of list of all\n",
    "#primes numbers till n (not inclusive):\n",
    "#prime(10) should return:\n",
    "#[2, 3, 5, 7]\n",
    "#prime(7) should return:\n",
    "#[2, 3, 5]"
   ]
  },
  {
   "cell_type": "code",
   "execution_count": 11,
   "metadata": {},
   "outputs": [
    {
     "data": {
      "text/plain": [
       "[2, 3, 5]"
      ]
     },
     "execution_count": 11,
     "metadata": {},
     "output_type": "execute_result"
    }
   ],
   "source": [
    "def prime(n):\n",
    "    if n < 2:\n",
    "        return list()\n",
    "    elif n < 4:\n",
    "        return [2] if n < 3 else [2, 3]\n",
    "    else:\n",
    "        res = [2, 3]\n",
    "        for i in range(5, n, 2):\n",
    "            for j in res:\n",
    "                if i % j == 0:\n",
    "                    break\n",
    "            else:\n",
    "                res.append(i)\n",
    "        return res\n",
    "\n",
    "prime(7)"
   ]
  },
  {
   "cell_type": "code",
   "execution_count": null,
   "metadata": {},
   "outputs": [],
   "source": [
    "#Recursive problem\n",
    "#Create a function to find the greatest common divisor of two integers:\n",
    "#Example div(20,4):\n",
    "#returns 4"
   ]
  },
  {
   "cell_type": "code",
   "execution_count": 25,
   "metadata": {},
   "outputs": [
    {
     "data": {
      "text/plain": [
       "4"
      ]
     },
     "execution_count": 25,
     "metadata": {},
     "output_type": "execute_result"
    }
   ],
   "source": [
    "#Solution\n",
    "def div(a, b):\n",
    "    low = min(a, b)\n",
    "    high = max(a, b)\n",
    "\n",
    "    if low == 0:\n",
    "        return high\n",
    "    elif low == 1:\n",
    "        return 1\n",
    "    else:\n",
    "        return div(low, high%low)\n",
    "\n",
    "div(20,4)"
   ]
  },
  {
   "cell_type": "code",
   "execution_count": 18,
   "metadata": {},
   "outputs": [],
   "source": [
    "#Another Recursion\n",
    "#Create a function that outputs the n-th number of the fibonacci sequence:\n",
    "#Example: fibo(10)\n",
    "#returns(55)"
   ]
  },
  {
   "cell_type": "code",
   "execution_count": 19,
   "metadata": {},
   "outputs": [
    {
     "data": {
      "text/plain": [
       "13"
      ]
     },
     "execution_count": 19,
     "metadata": {},
     "output_type": "execute_result"
    }
   ],
   "source": [
    "#Solution\n",
    "def fibo(n):\n",
    "    a, b = 0, 1\n",
    "    for i in range(0, n):\n",
    "        a, b = b, a + b\n",
    "    return a\n",
    "\n",
    "fibo(7)"
   ]
  },
  {
   "cell_type": "code",
   "execution_count": 13,
   "metadata": {},
   "outputs": [],
   "source": [
    "from functools import lru_cache\n",
    "\n",
    "@lru_cache()\n",
    "def fibo(n):\n",
    "    if n == 1 or n == 2:\n",
    "        return 1\n",
    "    else:\n",
    "        return fibo(n - 1) + fibo(n - 2)\n",
    "\n"
   ]
  },
  {
   "cell_type": "code",
   "execution_count": 31,
   "metadata": {},
   "outputs": [],
   "source": [
    "#Dictionnary manipulation\n",
    "#Write python code to concatenate the first 3 dictionnaries into 1:\n",
    "dic1={1:10, 2:20}\n",
    "dic2={3:30, 4:40}\n",
    "dic3={5:50,6:60}\n",
    "dic4 = {}\n",
    "\n",
    "answer = {1: 10, 2: 20, 3: 30, 4: 40, 5: 50, 6: 60}"
   ]
  },
  {
   "cell_type": "code",
   "execution_count": 34,
   "metadata": {},
   "outputs": [],
   "source": [
    "#Solution\n",
    "for d in (dic1, dic2, dic3):\n",
    "    dic4.update(d)"
   ]
  },
  {
   "cell_type": "code",
   "execution_count": 35,
   "metadata": {},
   "outputs": [],
   "source": [
    "#More dictionnary manipulation\n",
    "#Write some code to print the max. and min. values in a dictionary\n",
    "my_dict = {'a':500, 'b':5874, 'c': 560, 'd': 1780, 'e': 5900}"
   ]
  },
  {
   "cell_type": "code",
   "execution_count": 38,
   "metadata": {},
   "outputs": [
    {
     "name": "stdout",
     "output_type": "stream",
     "text": [
      "Max Val:  5900\n",
      "Min Val:  500\n"
     ]
    }
   ],
   "source": [
    "#Solution\n",
    "print('Max Val: ',my_dict[max(my_dict.keys(), key=(lambda k: my_dict[k]))])\n",
    "print('Min Val: ',my_dict[min(my_dict.keys(), key=(lambda k: my_dict[k]))])"
   ]
  },
  {
   "cell_type": "code",
   "execution_count": 40,
   "metadata": {},
   "outputs": [],
   "source": [
    "#Last dictionnary manipulation\n",
    "#write some code to map two lists into a dictionary\n",
    "keys = ['red', 'green', 'blue']\n",
    "values = ['#FF0000','#008000', '#0000FF']\n",
    "asnwer = {'green': '#008000', 'blue': '#0000FF', 'red': '#FF0000'}"
   ]
  },
  {
   "cell_type": "code",
   "execution_count": 41,
   "metadata": {},
   "outputs": [
    {
     "data": {
      "text/plain": [
       "{'red': '#FF0000', 'green': '#008000', 'blue': '#0000FF'}"
      ]
     },
     "execution_count": 41,
     "metadata": {},
     "output_type": "execute_result"
    }
   ],
   "source": [
    "#Solution\n",
    "color_dictionary = dict(zip(keys, values))\n",
    "color_dictionary"
   ]
  },
  {
   "cell_type": "markdown",
   "metadata": {},
   "source": [
    "### HackerRank and Leetcode problems:\n",
    "https://www.hackerrank.com/challenges/ctci-array-left-rotation/problem?h_l=interview&playlist_slugs%5B%5D=interview-preparation-kit&playlist_slugs%5B%5D=arrays\n",
    "\n",
    "https://www.hackerrank.com/challenges/ctci-ransom-note/problem?h_l=interview&playlist_slugs%5B%5D=interview-preparation-kit&playlist_slugs%5B%5D=dictionaries-hashmaps\n",
    "\n",
    "https://leetcode.com/problems/palindrome-number/\n",
    "\n",
    "https://leetcode.com/problems/sort-array-by-parity/\n"
   ]
  }
 ],
 "metadata": {
  "kernelspec": {
   "display_name": "Python 3",
   "language": "python",
   "name": "python3"
  },
  "language_info": {
   "codemirror_mode": {
    "name": "ipython",
    "version": 3
   },
   "file_extension": ".py",
   "mimetype": "text/x-python",
   "name": "python",
   "nbconvert_exporter": "python",
   "pygments_lexer": "ipython3",
   "version": "3.6.7"
  }
 },
 "nbformat": 4,
 "nbformat_minor": 2
}
